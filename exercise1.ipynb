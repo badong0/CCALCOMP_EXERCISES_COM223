  <a href="https://colab.research.google.com/github/robitussin/CCALCOMP_EXERCISES/blob/main/exercise1.ipynb" target="_parent"><img src="https://colab.research.google.com/assets/colab-badge.svg" alt="Open In Colab"/></a>
# Exercise 1
Please follow the instructions in each number. Do not remove or modify the pre-defined code!
# Add a vertex to the set of vertices and the graph
def add_vertex(v):
  global graph
  global vertices_no
  global vertices
  if v in vertices:
    print("Vertex ", v, " already exists")
  else:
    vertices_no = vertices_no + 1
    vertices.append(v)
    if vertices_no > 1:
        for vertex in graph:
            vertex.append(0)
    temp = []
    for i in range(vertices_no):
        temp.append(0)
    graph.append(temp)

# Add an edge between vertex v1 and v2 with edge weight e
def add_edge(v1, v2, e):
    global graph
    global vertices_no
    global vertices
    # Check if vertex v1 is a valid vertex
    if v1 not in vertices:
        print("Vertex ", v1, " does not exist.")
    # Check if vertex v1 is a valid vertex
    elif v2 not in vertices:
        print("Vertex ", v2, " does not exist.")
    # Since this code is not restricted to a directed or
    # an undirected graph, an edge between v1 v2 does not
    # imply that an edge exists between v2 and v1
    else:
        index1 = vertices.index(v1)
        index2 = vertices.index(v2)
        graph[index1][index2] = e

# Print the graph
def print_graph():
  global graph
  global vertices_no
  for i in range(vertices_no):
    for j in range(vertices_no):
      if graph[i][j] != 0:
        print(vertices[i], " -> ", vertices[j],
              " edge weight: ", graph[i][j])
# stores the vertices in the graph
vertices = []
# stores the number of vertices in the graph
vertices_no = 0
graph = []
<img src="https://github.com/robitussin/CCALCOMP_EXERCISES/blob/main/images/directed%20graph2.png?raw=true"/>
1. Print the edges and vertices of the graph in set representation. (`25 points`)
# put your answer here
# ADDING vertex
add_vertex("A")
add_vertex("B")
add_vertex("C")
add_vertex("D")
add_vertex("E")

add_edge("A","C","A")
add_edge("B","A","B")
add_edge("C","B","C")
add_edge("C","D","C")
add_edge("E","A","E")

2. Implement the weighted graph in python code. Use the print_graph() function. (`25 points`)
# put your answer here
print_graph()
3. You decided to go on a trip around the philippines. Being a computer scientist, you wanted to find the optimal route that would cost the least amount of money to travel all four cities. Find the route and print the total cost of the most optimal route. (`50 points`)
<img src="https://github.com/robitussin/CCALCOMP_EXERCISES/blob/main/images/trip.png?raw=true" width="500" height="600"/>
#traveling salesman
def nearest_neighbor(graph, start):
    visited = [start]
    total_cost = 0

    current_vertex = start
    while len(visited) < len(graph):
        min_cost = float('inf')
        nearest_city = None

        for city in range(len(graph)):
            if city not in visited and graph[current_vertex][city] < min_cost:
                min_cost = graph[current_vertex][city]
                nearest_city = city

        visited.append(nearest_city)
        total_cost += min_cost
        current_vertex = nearest_city

    # Add the cost to return to the starting city
    total_cost += graph[visited[0]][start]

    return visited, total_cost
# Driver code
vertices = ["Manila", "Tacloban", "Puerto Princesa", "Davao"]
graph = [
    [0,     8000,   1000,   5000],  # Cost from Manila to other cities
    [8000,     0,   1500,   4000],   # Cost from Cebu to other cities
    [1000,  1500,      0,   2000],   # Cost from Davao to other cities
    [5000,  4000,   2000,      0]   # Cost from Baguio to other cities
]

start_city = 0  # Manila

route, total_cost = nearest_neighbor(graph, start_city)
#total_cost += start_city

print("Optimal route:", [vertices[i] for i in route])
print("Total cost:", total_cost)
graph.clear
vertices.clear
def travellingSalesman(graph, start):
    visited = [start]
    total_cost = 0

    current_vertex = start
    while len(visited) < len(graph):
        min_cost = float('inf')
        nearest_city = None

        for city in range(len(graph)):
            if city not in visited and graph[current_vertex][city] < min_cost:
                min_cost = graph[current_vertex][city]
                nearest_city = city

        visited.append(nearest_city)
        total_cost += min_cost
        current_vertex = nearest_city

    # Add the cost to return to the starting city
    total_cost += graph[visited[-1]][start]

    return visited, total_cost



# Driver code
vertices = ["Manila", "Puerto Princesa", "Tacloban", "Davao"]
graph = [
    [0,     8000,   1000,   5000],  # Cost from Manila to other cities
    [8000,     0,   1500,   4000],   # Cost from Cebu to other cities
    [1000,  1500,      0,   2000],   # Cost from Davao to other cities
    [5000,  4000,   2000,      0]   # Cost from Baguio to other cities
]


start_city = 0  # Manila

route, total_cost = travellingSalesman(graph, start_city)

# Adjust the route to return to the starting city
route.append(start_city)

print("Optimal route:", [vertices[i] for i in route])
print("Total cost:", total_cost)
