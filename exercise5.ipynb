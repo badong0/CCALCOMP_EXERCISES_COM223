{
  "cells": [
    {
      "cell_type": "markdown",
      "metadata": {
        "colab_type": "text",
        "id": "view-in-github"
      },
      "source": [
        "<a href=\"https://colab.research.google.com/github/robitussin/CCALCOMP_EXERCISES/blob/main/exercise5.ipynb\" target=\"_parent\"><img src=\"https://colab.research.google.com/assets/colab-badge.svg\" alt=\"Open In Colab\"/></a>"
      ]
    },
    {
      "cell_type": "markdown",
      "metadata": {
        "id": "-8bYOEC8HOQ4"
      },
      "source": [
        "# Exercise 5\n",
        "\n",
        "Please follow the instructions in each number."
      ]
    },
    {
      "cell_type": "markdown",
      "metadata": {
        "id": "FEPXLUAPHOQ6"
      },
      "source": [
        "### Maximum Subarray\n",
        "Given an array of integers nums, find the subarray with the largest sum and return the sum.\n",
        "\n",
        "A subarray is a contiguous non-empty sequence of elements within an array.\n",
        "\n",
        "\n",
        "\n",
        "Example 1:\n",
        "\n",
        "Input: nums = [2,-3,4,-2,2,1,-1,4]\n",
        "\n",
        "Output: 8\n",
        "\n",
        "Explanation: The subarray [4,-2,2,1,-1,4] has the largest sum 8."
      ]
    },
    {
      "cell_type": "markdown",
      "metadata": {
        "id": "D4a-4yS4HOQ7"
      },
      "source": [
        "## Tasks"
      ]
    },
    {
      "cell_type": "markdown",
      "metadata": {
        "id": "v8mlE6kYHOQ7"
      },
      "source": [
        "1. Put your student number in a list and manually compute the maximum subarray in your student number (`10 points`)"
      ]
    },
    {
      "cell_type": "code",
      "execution_count": 41,
      "metadata": {
        "id": "YJMIVpuTHOQ8"
      },
      "outputs": [
        {
          "name": "stdout",
          "output_type": "stream",
          "text": [
            "my approach\n",
            "0\n",
            "2\n",
            "2\n",
            "4\n",
            "6\n",
            "7\n",
            "7\n",
            "8\n",
            "8\n",
            "9\n",
            "15\n"
          ]
        }
      ],
      "source": [
        "# put your answer here\n",
        "def max_subarray(nums):\n",
        "    max_sum = float('-inf')\n",
        "    current_sum = 0\n",
        "    for num in nums:\n",
        "        print(current_sum)\n",
        "        current_sum = max(num, current_sum + num)\n",
        "        max_sum = max(max_sum, current_sum)\n",
        "    return max_sum\n",
        "print(\"my approach\")\n",
        "nums = [2, 0, 2, 2, 1, 0, 1, 0, 1, 6]\n",
        "print(max_subarray(nums))"
      ]
    },
    {
      "cell_type": "markdown",
      "metadata": {
        "id": "nchQgI2KHOQ8"
      },
      "source": [
        "2. Write a program using a brute-force approach to get the maximum-subarray of your student number (`40 points`)"
      ]
    },
    {
      "cell_type": "code",
      "execution_count": 49,
      "metadata": {
        "id": "b9P6oe11HOQ9"
      },
      "outputs": [
        {
          "name": "stdout",
          "output_type": "stream",
          "text": [
            "Brute Force Approach\n",
            "2 [2]\n",
            "4 [2, 0, 2]\n",
            "6 [2, 0, 2, 2]\n",
            "7 [2, 0, 2, 2, 1]\n",
            "8 [2, 0, 2, 2, 1, 0, 1]\n",
            "9 [2, 0, 2, 2, 1, 0, 1, 0, 1]\n",
            "15 [2, 0, 2, 2, 1, 0, 1, 0, 1, 6]\n",
            "Maximum subarray sum: 15\n",
            "Maximum subarray: [2, 0, 2, 2, 1, 0, 1, 0, 1, 6]\n"
          ]
        }
      ],
      "source": [
        "# put your answer here\n",
        "def max_subarray(arr):\n",
        "    max_sum = float('-inf')\n",
        "    max_subarray = []\n",
        "    for i in range(len(arr)):\n",
        "        for j in range(i, len(arr)):\n",
        "\n",
        "            subarray = arr[i:j+1]\n",
        "            subarray_sum = sum(subarray)\n",
        "            \n",
        "            if subarray_sum > max_sum:\n",
        "                max_sum = subarray_sum\n",
        "                max_subarray = subarray\n",
        "                print(max_sum, max_subarray)  \n",
        "    return max_sum, max_subarray\n",
        "arr = [2, 0, 2, 2, 1, 0, 1, 0, 1, 6]\n",
        "print(\"Brute Force Approach\")\n",
        "max_sum, max_subarray = max_subarray(arr)\n",
        "print(\"Maximum subarray sum:\", max_sum)\n",
        "print(\"Maximum subarray:\", max_subarray)"
      ]
    },
    {
      "cell_type": "markdown",
      "metadata": {
        "id": "NkqAxIx_HOQ9"
      },
      "source": [
        "3. Write a program using a dynamic programming to get the maximum-subarray of your student number (`50 points`)"
      ]
    },
    {
      "cell_type": "code",
      "execution_count": 53,
      "metadata": {
        "id": "BFBp2ARLHOQ9"
      },
      "outputs": [
        {
          "name": "stdout",
          "output_type": "stream",
          "text": [
            "2 2\n",
            "2 2\n",
            "4 4\n",
            "6 6\n",
            "7 7\n",
            "7 7\n",
            "8 8\n",
            "8 8\n",
            "9 9\n",
            "15 15\n",
            "Dynamic Programming Approach\n",
            "Maximum contiguous sum is 15\n"
          ]
        }
      ],
      "source": [
        "# put your answer here\n",
        "def max_subarray(arr):\n",
        "    max_sum = float('-inf')\n",
        "    current_sum = 0\n",
        "    for num in arr:\n",
        "        current_sum = max(num, current_sum + num)\n",
        "        max_sum = max(max_sum, current_sum)\n",
        "        print(max_sum, current_sum)\n",
        "    return max_sum\n",
        "\n",
        "arr = [2, 0, 2, 2, 1, 0, 1, 0, 1, 6]\n",
        "max_sum = max_subarray(arr)\n",
        "print(\"Dynamic Programming Approach\")\n",
        "print(\"Maximum contiguous sum is\", max_sum)"
      ]
    }
  ],
  "metadata": {
    "colab": {
      "include_colab_link": true,
      "provenance": []
    },
    "kernelspec": {
      "display_name": "base",
      "language": "python",
      "name": "python3"
    },
    "language_info": {
      "codemirror_mode": {
        "name": "ipython",
        "version": 3
      },
      "file_extension": ".py",
      "mimetype": "text/x-python",
      "name": "python",
      "nbconvert_exporter": "python",
      "pygments_lexer": "ipython3",
      "version": "3.10.0"
    }
  },
  "nbformat": 4,
  "nbformat_minor": 0
}
