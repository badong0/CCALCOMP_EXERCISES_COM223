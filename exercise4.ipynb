{
  "cells": [
    {
      "cell_type": "markdown",
      "metadata": {
        "colab_type": "text",
        "id": "view-in-github"
      },
      "source": [
        "<a href=\"https://colab.research.google.com/github/robitussin/CCALCOMP_EXERCISES/blob/main/exercise4.ipynb\" target=\"_parent\"><img src=\"https://colab.research.google.com/assets/colab-badge.svg\" alt=\"Open In Colab\"/></a>"
      ]
    },
    {
      "cell_type": "markdown",
      "metadata": {
        "id": "cPRRjBOhHHMh"
      },
      "source": [
        "# Exercise 4\n",
        "\n",
        "Please follow the instructions in each number."
      ]
    },
    {
      "cell_type": "markdown",
      "metadata": {
        "id": "zvDTNWRFHHMk"
      },
      "source": [
        "### Activity Selection Problem\n",
        "\n",
        "Given a set of activities, along with the starting and finishing time of each activity, find the maximum number of activities performed by a single person assuming that a person can only work on a single activity at a time.\n",
        "\n",
        "For example,\n",
        "\n",
        "Input: Following set of activities (1, 4), (3, 5), (0, 6), (5, 7), (3, 8), (5, 9), (6, 10), (8, 11), (8, 12), (2, 13), (12, 14)  \n",
        "\n",
        "Output: (1, 4), (5, 7), (8, 11), (12, 14)"
      ]
    },
    {
      "cell_type": "markdown",
      "metadata": {
        "id": "ff7w7YLGHHMl"
      },
      "source": [
        "## Tasks"
      ]
    },
    {
      "cell_type": "markdown",
      "metadata": {
        "id": "0QLHdoNSHHMl"
      },
      "source": [
        "1. Write a program using a recursive greedy approach to get the maximum number of activities (`50 points`)"
      ]
    },
    {
      "cell_type": "code",
      "execution_count": 14,
      "metadata": {
        "id": "Xe02cHvAHHMl"
      },
      "outputs": [
        {
          "name": "stdout",
          "output_type": "stream",
          "text": [
            "sorting \n",
            "activities 0\n",
            "The maximum number of activities that can be performed are:\n",
            "(1, 4)\n",
            "(5, 7)\n",
            "(8, 11)\n",
            "(12, 14)\n"
          ]
        }
      ],
      "source": [
        "# put your answer here\n",
        "# Define the activity selection function\n",
        "def recursive_activity_selector(activities, last_selected_index, current_index):\n",
        "    # Base case: If all activities are processed\n",
        "    if current_index >= len(activities):\n",
        "        return []\n",
        "\n",
        "    # If the activity is compatible with the last selected activity\n",
        "    if activities[current_index][0] >= activities[last_selected_index][1]:\n",
        "        # Include this activity and move to the next\n",
        "        return [activities[current_index]] + recursive_activity_selector(\n",
        "            activities, current_index, current_index + 1)\n",
        "    \n",
        "    else:\n",
        "        # Exclude this activity and move to the next\n",
        "        return recursive_activity_selector(activities, last_selected_index, current_index + 1)\n",
        "\n",
        "def maximum_activities(activities):\n",
        "    # Sort activities based on their finish times\n",
        "    activities.sort(key=lambda x: x[1])\n",
        "    # The first activity always gets selected\n",
        "    result = [activities[0]] \n",
        "    # Get the remaining selected activities using recursion\n",
        "    result += recursive_activity_selector(activities, 0, 1)\n",
        "\n",
        "    return result\n",
        "\n",
        "\n",
        "# Define the activities with their start and end times\n",
        "activities = [(1, 4), (3, 5), (0, 6), (5, 7), (3, 8), (5, 9), (6, 10), (8, 11), (8, 12), (2, 13), (12, 14)]\n",
        "\n",
        "# Get the maximum set of activities that can be performed\n",
        "max_activities = maximum_activities(activities)\n",
        "\n",
        "# Print the result\n",
        "print(\"The maximum number of activities that can be performed are:\")\n",
        "for activity in max_activities:\n",
        "    print(activity)\n"
      ]
    },
    {
      "cell_type": "code",
      "execution_count": 16,
      "metadata": {},
      "outputs": [
        {
          "name": "stdout",
          "output_type": "stream",
          "text": [
            "The maximum number of activities that can be performed are:\n",
            "(1, 4)\n",
            "(5, 7)\n",
            "(8, 11)\n",
            "(12, 14)\n"
          ]
        }
      ],
      "source": [
        "# Print the result\n",
        "print(\"The maximum number of activities that can be performed are:\")\n",
        "for activity in max_activities:\n",
        "    print(activity)"
      ]
    },
    {
      "cell_type": "markdown",
      "metadata": {
        "id": "eZe27u4LHHMn"
      },
      "source": [
        "2. Write a program using a iterative greedy approach to get the maximun number of activities (`50 points`)"
      ]
    },
    {
      "cell_type": "code",
      "execution_count": 18,
      "metadata": {
        "id": "UrSZyQwEHHMn"
      },
      "outputs": [
        {
          "name": "stdout",
          "output_type": "stream",
          "text": [
            "The maximum number of activities that can be performed are:\n",
            "(1, 4)\n",
            "(5, 7)\n",
            "(8, 11)\n",
            "(12, 14)\n"
          ]
        }
      ],
      "source": [
        "# put your answer here\n",
        "def maximum_activities(activities):\n",
        "    # Sort activities based on their finish times\n",
        "    activities.sort(key=lambda x: x[1])\n",
        "\n",
        "    # The first activity always gets selected\n",
        "    selected_activities = [activities[0]]\n",
        "\n",
        "    # Keep track of the finish time of the last selected activity\n",
        "    last_finish_time = activities[0][1]\n",
        "\n",
        "    # Iterate through the remaining activities\n",
        "    for i in range(1, len(activities)):\n",
        "        # If this activity starts after or when the last selected activity ends, select it\n",
        "        if activities[i][0] >= last_finish_time:\n",
        "            selected_activities.append(activities[i])\n",
        "            last_finish_time = activities[i][1]\n",
        "\n",
        "    return selected_activities\n",
        "\n",
        "# Define the activities with their start and end times\n",
        "activities = [(1, 4), (3, 5), (0, 6), (5, 7), (3, 8), (5, 9), (6, 10), (8, 11), (8, 12), (2, 13), (12, 14)]\n",
        "\n",
        "# Get the maximum set of activities that can be performed\n",
        "max_activities = maximum_activities(activities)\n",
        "\n",
        "# Print the result\n",
        "print(\"The maximum number of activities that can be performed are:\")\n",
        "for activity in max_activities:\n",
        "    print(activity)\n"
      ]
    }
  ],
  "metadata": {
    "colab": {
      "include_colab_link": true,
      "provenance": []
    },
    "kernelspec": {
      "display_name": "base",
      "language": "python",
      "name": "python3"
    },
    "language_info": {
      "codemirror_mode": {
        "name": "ipython",
        "version": 3
      },
      "file_extension": ".py",
      "mimetype": "text/x-python",
      "name": "python",
      "nbconvert_exporter": "python",
      "pygments_lexer": "ipython3",
      "version": "3.10.0"
    }
  },
  "nbformat": 4,
  "nbformat_minor": 0
}
